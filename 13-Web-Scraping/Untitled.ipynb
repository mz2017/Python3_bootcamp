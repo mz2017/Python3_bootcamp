{
 "cells": [
  {
   "cell_type": "markdown",
   "metadata": {},
   "source": [
    "# Scraping IBM W3 Bluepages\n",
    "\n",
    "This Notebook is an exercise to scrape IBM Bluepage site for employee hierarchy data. This is purely an exercise for learning Python web scraping capability. The result should not be share with anyone outside IBM.\n"
   ]
  },
  {
   "cell_type": "markdown",
   "metadata": {},
   "source": [
    "In this exercise, we will use BeautifulSoup Python package. "
   ]
  },
  {
   "cell_type": "code",
   "execution_count": 1,
   "metadata": {},
   "outputs": [],
   "source": [
    "import requests\n",
    "import bs4"
   ]
  },
  {
   "cell_type": "markdown",
   "metadata": {},
   "source": [
    "## Requirements\n",
    "The requirement is to start anywhere in the IBM Bluepage (BASE_URL, from the bluepage for any employee), go over all employees reporting to this person, and recursively all their reportees, up to a given levels (MAX_LEVEL) down. \n",
    "\n",
    "The results will be saved in a CSV file, with following columns:\n",
    "  1. Employee full name\n",
    "  2. Employee email address\n",
    "  3. Employee country\n",
    "  4. Manager's email\n",
    "  5. Number of direct reports\n",
    "  "
   ]
  },
  {
   "cell_type": "code",
   "execution_count": 2,
   "metadata": {},
   "outputs": [],
   "source": [
    "base_url = ''\n",
    "max_level = 2"
   ]
  },
  {
   "cell_type": "code",
   "execution_count": null,
   "metadata": {},
   "outputs": [],
   "source": []
  },
  {
   "cell_type": "code",
   "execution_count": null,
   "metadata": {},
   "outputs": [],
   "source": []
  }
 ],
 "metadata": {
  "kernelspec": {
   "display_name": "Python 3",
   "language": "python",
   "name": "python3"
  },
  "language_info": {
   "codemirror_mode": {
    "name": "ipython",
    "version": 3
   },
   "file_extension": ".py",
   "mimetype": "text/x-python",
   "name": "python",
   "nbconvert_exporter": "python",
   "pygments_lexer": "ipython3",
   "version": "3.8.5"
  }
 },
 "nbformat": 4,
 "nbformat_minor": 4
}
